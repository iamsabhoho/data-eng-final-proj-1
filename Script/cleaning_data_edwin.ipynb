{
 "cells": [
  {
   "cell_type": "code",
   "execution_count": 2,
   "id": "7363ca08",
   "metadata": {},
   "outputs": [],
   "source": [
    "import pandas as pd\n",
    "import numpy as np\n",
    "import os"
   ]
  },
  {
   "cell_type": "code",
   "execution_count": 4,
   "id": "679d23e9",
   "metadata": {},
   "outputs": [
    {
     "data": {
      "text/plain": [
       "True"
      ]
     },
     "execution_count": 4,
     "metadata": {},
     "output_type": "execute_result"
    }
   ],
   "source": [
    "os.path.exists('../data/')"
   ]
  },
  {
   "cell_type": "code",
   "execution_count": 10,
   "id": "b282b21c",
   "metadata": {},
   "outputs": [],
   "source": [
    "crime_df_1 = pd.read_excel('../data/crime/Crimes_Against_Persons_Offenses_Offense_Category_by_State_2020.xls.xlsx', skiprows=5)\n",
    "crime_df_2 = pd.read_excel('../data/crime/Crimes_Against_Property_Offenses_Offense_Category_by_State_2020.xls.xlsx')\n",
    "\n"
   ]
  },
  {
   "cell_type": "code",
   "execution_count": 34,
   "id": "5dbe1164",
   "metadata": {},
   "outputs": [],
   "source": [
    "crime_df_1.columns = [col.replace('\\n', ' ') if 'Unnamed' not in col  else 'Total Offenses' for col in crime_df_1.columns ]\n",
    "cleaned_df1 = crime_df_1.dropna()\n",
    "cleaned_df1.to_csv('crime_df_1_cleaned.csv')"
   ]
  },
  {
   "cell_type": "code",
   "execution_count": 33,
   "id": "f167ae4e",
   "metadata": {},
   "outputs": [],
   "source": [
    "crime_df_2.columns = columns_2 = ['State', 'Number of Participating Agencies', 'Population Covered',\n",
    "'Total Offenses', 'Arson' , 'Bribery', 'Burglary/Breaking & Entering', \\\n",
    "'Counterfeiting/Forgery', 'Destruction/Damage/Vandalism','Embezzlement', \\\n",
    "'Extortion/Blackmail', 'Fraud Offenses', 'Larceny/Theft Offenses','Motor Vehicle Theft', \\\n",
    "            'Robbery', 'Stolen Property Offenses']\n",
    "\n",
    "cleaned_df2 = crime_df_2.dropna().reset_index(drop = True)\n",
    "cleaned_df2.to_csv('crime_df_2_cleaned.csv')"
   ]
  },
  {
   "cell_type": "code",
   "execution_count": null,
   "id": "de24a1c2",
   "metadata": {},
   "outputs": [],
   "source": []
  }
 ],
 "metadata": {
  "kernelspec": {
   "display_name": "Python 3 (ipykernel)",
   "language": "python",
   "name": "python3"
  },
  "language_info": {
   "codemirror_mode": {
    "name": "ipython",
    "version": 3
   },
   "file_extension": ".py",
   "mimetype": "text/x-python",
   "name": "python",
   "nbconvert_exporter": "python",
   "pygments_lexer": "ipython3",
   "version": "3.9.7"
  }
 },
 "nbformat": 4,
 "nbformat_minor": 5
}
